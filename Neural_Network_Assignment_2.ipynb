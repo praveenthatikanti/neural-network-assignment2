{
  "nbformat": 4,
  "nbformat_minor": 0,
  "metadata": {
    "colab": {
      "provenance": []
    },
    "kernelspec": {
      "name": "python3",
      "display_name": "Python 3"
    },
    "language_info": {
      "name": "python"
    }
  },
  "cells": [
    {
      "cell_type": "markdown",
      "source": [
        "**1. Display Full Name using string concatenation**"
      ],
      "metadata": {
        "id": "o9fvJuGKKwn0"
      }
    },
    {
      "cell_type": "code",
      "source": [
        "first_name=input(\"Enter First Name=\")\n",
        "last_name=input(\"Enter Last Name=\")\n",
        "\n",
        "def Full_name(str1,str2):\n",
        "  print(str1+\" \"+str2)\n",
        "Full_name(first_name,last_name)"
      ],
      "metadata": {
        "id": "502mi7TqKz8L",
        "colab": {
          "base_uri": "https://localhost:8080/"
        },
        "outputId": "b5b0172e-aa2e-4edd-d689-990596f433b4"
      },
      "execution_count": 34,
      "outputs": [
        {
          "output_type": "stream",
          "name": "stdout",
          "text": [
            "Enter First Name=T\n",
            "Enter Last Name=Praveen\n",
            "T Praveen\n"
          ]
        }
      ]
    },
    {
      "cell_type": "markdown",
      "source": [
        "**1. Display alternative letters in the sentence**"
      ],
      "metadata": {
        "id": "EXzkw61hLBN3"
      }
    },
    {
      "cell_type": "code",
      "source": [
        "  res=str[::2]\n",
        "  print(res)\n",
        "\n",
        "def main():\n",
        "  s=input(\"Enter Word=\")\n",
        "  string_alternative(s)\n",
        "if __name__==\"__main__\":\n",
        "  main()"
      ],
      "metadata": {
        "id": "sj1Yx9NGLX9T",
        "colab": {
          "base_uri": "https://localhost:8080/"
        },
        "outputId": "c2edd263-671b-4a98-abdc-ed572a6ea45e"
      },
      "execution_count": 35,
      "outputs": [
        {
          "output_type": "stream",
          "name": "stdout",
          "text": [
            "Enter Word=Good Evening\n",
            "Go vnn\n"
          ]
        }
      ]
    },
    {
      "cell_type": "markdown",
      "source": [
        "**2. Save word occurence and count in New text file**"
      ],
      "metadata": {
        "id": "oj4nvSOLLzv5"
      }
    },
    {
      "cell_type": "code",
      "source": [
        "file1=open(r\"/content/input.txt\",\"r\")\n",
        "count={}\n",
        "for i1 in file1:\n",
        "  val=i1.strip().split()\n",
        "  for j1 in val:\n",
        "    if j1 in count:\n",
        "      count[j1]+=1\n",
        "    else:\n",
        "      count[j1]=1\n",
        "file1.close()\n",
        "\n",
        "file2=open(\"output.txt\",\"w\")\n",
        "for i2,j2 in count.items():\n",
        "  file2.write(i2+\":\"+str(j2)+\"\\n\")\n",
        "  print(i2,j2)\n",
        "file2.close()"
      ],
      "metadata": {
        "id": "T7-hwpyfL5Ds",
        "colab": {
          "base_uri": "https://localhost:8080/"
        },
        "outputId": "02bda4f7-4b1b-4841-a27f-1181220c4f0c"
      },
      "execution_count": 43,
      "outputs": [
        {
          "output_type": "stream",
          "name": "stdout",
          "text": [
            "Python 1\n",
            "Course 2\n",
            "Deep 1\n",
            "Learning 1\n"
          ]
        }
      ]
    },
    {
      "cell_type": "markdown",
      "source": [
        "**3. Convert Height from to centimeters in a separate list using Nested Interactive loop and List comprehensions**"
      ],
      "metadata": {
        "id": "ReZhd7w4OPbC"
      }
    },
    {
      "cell_type": "code",
      "source": [
        "list1=[]\n",
        "list2=[]\n",
        "num=int(input(\"Enter number of customers=\"))\n",
        "for n in range(0,num):\n",
        "  n=int(input())\n",
        "\n",
        "  list1.append(n)\n",
        "print(list1)\n",
        "\n",
        "for i in list1:\n",
        "  i=i/2.54\n",
        "  j=round(i,2)\n",
        "  list2.append(j)\n",
        "print(list2)\n"
      ],
      "metadata": {
        "id": "I0hDu8RqOl0D",
        "colab": {
          "base_uri": "https://localhost:8080/"
        },
        "outputId": "6cc38531-9ae5-425e-9ecc-e8065b48ca71"
      },
      "execution_count": 42,
      "outputs": [
        {
          "output_type": "stream",
          "name": "stdout",
          "text": [
            "Enter number of customers=4\n",
            "150\n",
            "155\n",
            "148\n",
            "145\n",
            "[150, 155, 148, 145]\n",
            "[59.06, 61.02, 58.27, 57.09]\n"
          ]
        }
      ]
    },
    {
      "cell_type": "markdown",
      "source": [],
      "metadata": {
        "id": "L_eo7epeNezq"
      }
    }
  ]
}